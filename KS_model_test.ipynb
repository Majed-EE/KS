{
 "cells": [
  {
   "cell_type": "code",
   "execution_count": 97,
   "id": "7be72009",
   "metadata": {},
   "outputs": [],
   "source": [
    "# read the data\n",
    "import pandas as pd\n",
    "import os\n",
    "import math\n",
    "from matplotlib import pyplot as plt\n",
    "data_path='dexmo_haptic_data'\n",
    "list_csv=os.listdir(data_path)\n",
    "# print(type(list_csv))\n"
   ]
  },
  {
   "cell_type": "code",
   "execution_count": 104,
   "id": "ed6810a8",
   "metadata": {},
   "outputs": [
    {
     "name": "stdout",
     "output_type": "stream",
     "text": [
      "Index: (359, 3)\n",
      "Index: (354, 3)\n",
      "Middle: (179, 3)\n",
      "Middle: (176, 3)\n",
      "Pinky: (300, 3)\n",
      "Pinky: (296, 3)\n",
      "Ring: (119, 3)\n",
      "Ring: (117, 3)\n",
      "Thumb: (299, 3)\n",
      "Thumb: (294, 3)\n"
     ]
    }
   ],
   "source": [
    "# description of dataset is such that the last row is the target, \n",
    "# the row[-2] is the Xn-t and row[0] is the Xn\n",
    "# most important features are Xn and Xn-1 force vector\n",
    "data_dict={}\n",
    "for x in list_csv:\n",
    "    df = pd.read_csv(os.path.join(data_path, x))\n",
    "    print(f\"{x[5:-4]}: {df.shape}\")\n",
    "    df = df[(df != 0).all(axis=1)]\n",
    "    print(f\"{x[5:-4]}: {df.shape}\")\n",
    "    data_dict[x[5:-4]]={\"data\": df,\"Xn\": df.iloc[:,0],\"Xn-1\": df.iloc[:,1],\"Y\": df.iloc[:,2]}\n",
    "    # print(df.head())\n"
   ]
  },
  {
   "cell_type": "code",
   "execution_count": 145,
   "id": "a154bf18",
   "metadata": {},
   "outputs": [
    {
     "name": "stdout",
     "output_type": "stream",
     "text": [
      "dict_keys(['Index', 'Middle', 'Pinky', 'Ring', 'Thumb'])\n",
      "(354, 3)\n"
     ]
    }
   ],
   "source": [
    "print(data_dict.keys())\n",
    "# inverence on data\n",
    "\n",
    "non_fealt_xn_web=[]\n",
    "fealt_xn_web=[]\n",
    "xn_diff_web=[]\n",
    "xn=data_dict[\"Index\"][\"Xn\"]\n",
    "xn_1=data_dict[\"Index\"][\"Xn-1\"]\n",
    "yn=data_dict[\"Index\"][\"Y\"]\n",
    "\n",
    "print(data_dict[\"Index\"][\"data\"].shape)"
   ]
  },
  {
   "cell_type": "code",
   "execution_count": 100,
   "id": "9be8ee63",
   "metadata": {},
   "outputs": [],
   "source": [
    "# Classifiers"
   ]
  },
  {
   "cell_type": "code",
   "execution_count": 106,
   "id": "e64bd1f3",
   "metadata": {},
   "outputs": [],
   "source": [
    "# Webber classifier \n",
    "\n",
    "diff = abs((xn - xn_1) / xn_1)\n",
    "# all the difference of (X_n - X_{n-1}) / (X_{n-1})\n",
    "xn_diff_web = list(diff)\n",
    "# xn_diff_web = [d_val for d_val in xn_diff_web if not math.isinf(d_val)]\n",
    "\n",
    "# getting all the non perceived dots-> \n",
    "non_fealt_xn_web = [d if y == -1 else -100 for d, y in zip(xn_diff_web, yn)]\n",
    "# getting all the perceived dots\n",
    "fealt_xn_web = [d if (y == 1 and d is not math.isinf(d)) else -100 for d, y in zip(xn_diff_web, yn)]\n",
    "\n",
    "\n",
    "\n",
    "\n",
    "\n",
    "# xn_diff_web = [d_val for d_val in xn_diff_web if not math.isinf(d_val)]\n",
    "# non_fealt_xn_web = [l1 for d_val, l1 in zip(xn_diff_web, non_fealt_xn_web) if not math.isinf(d_val)]\n",
    "# fealt_xn_web = [l2 for d_val, l2 in zip(xn_diff_web, fealt_xn_web) if not math.isinf(d_val)]\n"
   ]
  },
  {
   "cell_type": "code",
   "execution_count": 113,
   "id": "b98b214c",
   "metadata": {},
   "outputs": [
    {
     "name": "stdout",
     "output_type": "stream",
     "text": [
      "<class 'list'>\n",
      "[0.7223, 0.0161, 0.2271, 0.9328]\n"
     ]
    }
   ],
   "source": [
    "xn=list(xn)\n",
    "print(type(xn))\n",
    "print(xn[:4])"
   ]
  },
  {
   "cell_type": "code",
   "execution_count": 107,
   "id": "27be0440",
   "metadata": {},
   "outputs": [
    {
     "name": "stdout",
     "output_type": "stream",
     "text": [
      "354 354 354\n"
     ]
    }
   ],
   "source": [
    "print(len(non_fealt_xn_web), len(fealt_xn_web), len(xn_diff_web))"
   ]
  },
  {
   "cell_type": "code",
   "execution_count": 108,
   "id": "91abc58b",
   "metadata": {},
   "outputs": [
    {
     "name": "stdout",
     "output_type": "stream",
     "text": [
      "279\n",
      "75\n",
      "664.5342996504521\n",
      "11.478114487594171\n"
     ]
    }
   ],
   "source": [
    "fealt_arr_web=[x for x in fealt_xn_web if x != -100]\n",
    "non_fealt_arr_web=[x for x in non_fealt_xn_web if x != -100]\n",
    "print(len(fealt_arr_web))\n",
    "print(len(non_fealt_arr_web))\n",
    "print(sum(fealt_arr_web))\n",
    "print(sum(non_fealt_arr_web))\n",
    "\n",
    "mean_delta_optimestic = sum(fealt_arr_web) / len(fealt_arr_web)\n",
    "mean_delta_pessimistic = sum(non_fealt_arr_web) / len(non_fealt_arr_web)\n",
    "\n",
    "squared_diff_sum = sum((x - mean_delta_pessimistic)**2 for x in non_fealt_arr_web)\n",
    "variance=squared_diff_sum/(len(non_fealt_arr_web)-1)\n",
    "std_dev_delta = math.sqrt(variance)\n"
   ]
  },
  {
   "cell_type": "code",
   "execution_count": 109,
   "id": "03c8545f",
   "metadata": {},
   "outputs": [
    {
     "name": "stdout",
     "output_type": "stream",
     "text": [
      "Mean webber constant delta :0.1530415265012556\n",
      "Variance webber constant: 0.018718402299104098\n",
      "Standard Deviation webber constant: 0.1368152122357163\n",
      "CV: 0.8939744353281384\n"
     ]
    }
   ],
   "source": [
    "print(f\"Mean webber constant delta :{mean_delta_pessimistic}\\nVariance webber constant: {variance}\\nStandard Deviation webber constant: {std_dev_delta}\")\n",
    "print(f\"CV: {std_dev_delta/mean_delta_pessimistic}\")"
   ]
  },
  {
   "cell_type": "code",
   "execution_count": null,
   "id": "f57c8acd",
   "metadata": {},
   "outputs": [
    {
     "name": "stdout",
     "output_type": "stream",
     "text": [
      "mean webber constant delta :0.8022745778378945\n",
      "Variance webber constant: 1.8864540450124458\n",
      "Standard Deviation webber constant: 1.373482451657991\n",
      "CV: 1.7119855091999605\n"
     ]
    }
   ],
   "source": [
    "#old\n",
    "print(f\"Mean webber constant delta :{mean_delta_pessimistic}\\nVariance webber constant: {variance}\\nStandard Deviation webber constant: {std_dev_delta}\")\n",
    "print(f\"CV: {std_dev_delta/mean_delta_pessimistic}\")"
   ]
  },
  {
   "cell_type": "code",
   "execution_count": 116,
   "id": "254102b6",
   "metadata": {},
   "outputs": [],
   "source": [
    "error_delta=[]\n",
    "xn,xn_1,yn=list(xn),list(xn_1),list(yn)\n",
    "# redo this in np with few lines\n",
    "for x in range(len(xn_diff_web)):\n",
    "    obs_current=(xn_diff_web[x])**2-(mean_delta_pessimistic*xn_1[x])**2\n",
    "    if obs_current < 0:\n",
    "        sign = -1\n",
    "    elif obs_current == 0:\n",
    "        sign = 0\n",
    "    else:\n",
    "        sign = 1\n",
    "\n",
    "    summ_delta=(yn[x]-sign)**2\n",
    "    error_delta.append(summ_delta)\n",
    "\n",
    "# print(sum(error_delta))\n",
    "mean_error_delta=(1/(4*len(xn_diff_web))) *sum(error_delta)\n",
    "# print(mean_error_delta)\n",
    "squared_diff_sum = sum((x/4 - mean_error_delta) ** 2 for x in error_delta)\n",
    "variance_error_delta=squared_diff_sum/(len(error_delta)-1)\n",
    "std_dev_error_delta = math.sqrt(variance_error_delta)"
   ]
  },
  {
   "cell_type": "code",
   "execution_count": null,
   "id": "d4694426",
   "metadata": {},
   "outputs": [
    {
     "name": "stdout",
     "output_type": "stream",
     "text": [
      "mean error webber classifier: 0.3107344632768362\n",
      "Variance error webber classifier: 0.21478529472959815\n",
      "Standard Deviation webber constant: 0.4634493442973009\n",
      "CV: 1.491464253465859\n"
     ]
    }
   ],
   "source": [
    "#old\n",
    "print(f\"mean error webber classifier: {mean_error_delta}\\nVariance error webber classifier: {variance_error_delta}\\nStandard Deviation webber constant: {std_dev_error_delta}\")\n",
    "print(f\"CV: {std_dev_error_delta/mean_error_delta}\")"
   ]
  },
  {
   "cell_type": "code",
   "execution_count": 118,
   "id": "2188d078",
   "metadata": {},
   "outputs": [
    {
     "name": "stdout",
     "output_type": "stream",
     "text": [
      "mean error webber classifier: 0.1271186440677966\n",
      "Variance error webber classifier: 0.11127382724348209\n",
      "Standard Deviation webber constant: 0.33357731823893855\n"
     ]
    }
   ],
   "source": [
    "# new\n",
    "print(f\"mean error webber classifier: {mean_error_delta}\\nVariance error webber classifier: {variance_error_delta}\\nStandard Deviation webber constant: {std_dev_error_delta}\")\n",
    "# print(f\"CV: {std_dev_error_delta/mean_error_delta}\")"
   ]
  },
  {
   "cell_type": "code",
   "execution_count": 121,
   "id": "1bcece27",
   "metadata": {},
   "outputs": [
    {
     "data": {
      "image/png": "[encoded data removed]",
      "text/plain": [
       "<Figure size 640x480 with 1 Axes>"
      ]
     },
     "metadata": {},
     "output_type": "display_data"
    }
   ],
   "source": [
    "blue_tick=[]\n",
    "red_tick=[]\n",
    "\n",
    "index_correct_c=[]\n",
    "index_incorrect_c=[]\n",
    "xn_diff=[]\n",
    "for x in range (len(xn)):\n",
    "    if yn[x]==-1:\n",
    "        index_incorrect_c.append(x)\n",
    "    elif yn[x]==1:\n",
    "        index_correct_c.append(x)\n",
    "\n",
    "\n",
    "\n",
    "\n",
    "for x in range (len(xn)):\n",
    "    if x in index_incorrect_c:\n",
    "        red_tick.append(xn[x])\n",
    "        blue_tick.append(-100)\n",
    "    else:\n",
    "        blue_tick.append(xn[x])\n",
    "        red_tick.append(-100)\n",
    "\n",
    "\n",
    "slope = 0.2\n",
    "mean_delta_pessimistic = 0\n",
    "intercept = 0\n",
    "import numpy as np\n",
    "xn_new = np.array(xn)\n",
    "line_above = (1-slope) * xn_new + intercept\n",
    "line_below= (1+slope)*xn_new - intercept\n",
    "\n",
    "plt.plot(xn, line_above, color='black', linestyle='--', label='Straight Line')\n",
    "plt.plot(xn, line_below, color='black', linestyle='--', label='Straight Line')\n",
    "\n",
    "# print(\"size matric\")\n",
    "# print(fealt_xn,non_fealt_xn)\n",
    "plt.scatter(blue_tick,xn_1,c=\"blue\")\n",
    "plt.scatter(red_tick,xn_1,c=\"red\")\n",
    "#plt.scatter(xn,xn_1,c=\"green\")\n",
    "plt.xlim(0, 1.01)\n",
    "plt.ylim(0, 1.01)\n",
    "plt.xlabel('Xn-1')\n",
    "plt.ylabel('Xn')\n",
    "plt.title('Timespacing 1s for joint Index')\n",
    "plt.savefig(\"webber_eas_Index.svg\")\n",
    "plt.show()"
   ]
  },
  {
   "cell_type": "code",
   "execution_count": null,
   "id": "10871985",
   "metadata": {},
   "outputs": [
    {
     "name": "stdout",
     "output_type": "stream",
     "text": [
      "data_Index.csv: Total missing values = 0\n",
      "data_Middle.csv: Total missing values = 0\n",
      "data_Pinky.csv: Total missing values = 0\n",
      "data_Ring.csv: Total missing values = 0\n",
      "data_Thumb.csv: Total missing values = 0\n"
     ]
    }
   ],
   "source": [
    "# # Check and print missing values in each CSV file\n",
    "# import pandas as pd\n",
    "# import os\n",
    "\n",
    "# # data_path = os.path.join(data_path, list_csv[0])  # Example path, change as needed\n",
    "# # list_csv = os.listdir(data_path)\n",
    "\n",
    "# for csv_file in list_csv:\n",
    "#     df = pd.read_csv(os.path.join(data_path, csv_file))\n",
    "#     missing_count = df.isnull().sum().sum()\n",
    "#     print(f\"{csv_file}: Total missing values = {missing_count}\")\n",
    "#     if missing_count > 0:\n",
    "#         print(df.isnull().sum())\n",
    "#         print(df[df.isnull().any(axis=1)])"
   ]
  },
  {
   "cell_type": "code",
   "execution_count": null,
   "id": "e609a23e",
   "metadata": {},
   "outputs": [
    {
     "name": "stdout",
     "output_type": "stream",
     "text": [
      "74 74 279 279\n"
     ]
    }
   ],
   "source": [
    "# TODO \n",
    "# For all joints to the same\n",
    "\n",
    "# old\n",
    "index_incorrect_xn=[]\n",
    "index_correct_xn=[]\n",
    "\n",
    "\n",
    "\n",
    "xn_diff_c=0\n",
    "\n",
    "deadzone_c=[]\n",
    "deadzone_delta=[]\n",
    "\n",
    "deadzone_c_opt=[]\n",
    "deadzone_delta_opt=[]\n",
    "\n",
    "all_diff=[]\n",
    "# print(len(xn),len(xn_1),len(yn))\n",
    "for x in range (1,len(xn)):\n",
    "#     print(x)\n",
    "    if yn[x]==-1:\n",
    "        index_incorrect_xn.append(x)\n",
    "        xn_diff_c=abs((xn[x]-xn_1[x]))\n",
    "        xn_diff_delta=xn_diff_c/xn_1[x]\n",
    "        deadzone_c.append(xn_diff_c)\n",
    "        deadzone_delta.append(xn_diff_delta)\n",
    "    elif yn[x]==1:\n",
    "        index_correct_xn.append(x)\n",
    "        xn_diff_c=abs((xn[x]-xn_1[x]))\n",
    "        xn_diff_delta=xn_diff_c/xn_1[x]\n",
    "        deadzone_c_opt.append(xn_diff_c)\n",
    "        deadzone_delta_opt.append(xn_diff_delta)\n",
    "    all_diff.append(xn[x]-xn_1[x])\n",
    "\n",
    "# print(len(xn_diff_delta),len(xn_diff_c),len(all_diff))\n",
    "print(len(deadzone_c),len(deadzone_delta),len(deadzone_c_opt),len(deadzone_delta_opt))\n"
   ]
  },
  {
   "cell_type": "code",
   "execution_count": null,
   "id": "bf3059be",
   "metadata": {},
   "outputs": [],
   "source": [
    "# Constant Threshold C method\n",
    "\n",
    "deadzone_c      = [abs(x - x1) for y, x, x1 in zip(yn, xn, xn_1) if y == -1]\n",
    "# deadzone_delta  = [abs(x - x1) / x1 for y, x, x1 in zip(yn, xn, xn_1) if y == -1]\n",
    "deadzone_c_opt  = [abs(x - x1) for y, x, x1 in zip(yn, xn, xn_1) if y == 1]\n",
    "# deadzone_delta_opt = [abs(x - x1) / x1 for y, x, x1 in zip(yn, xn, xn_1) if y == 1]\n",
    "index_correct_xn= [x for x in range(len(yn)) if yn[x] == 1]\n",
    "index_incorrect_xn= [x for x in range(len(yn)) if yn[x] == -1]\n"
   ]
  },
  {
   "cell_type": "code",
   "execution_count": 140,
   "id": "2bdbb7d3",
   "metadata": {},
   "outputs": [
    {
     "name": "stdout",
     "output_type": "stream",
     "text": [
      "Mean C: 0.09087333333333335, Variance C: 0.008119223333333333, \n",
      "Std Dev C: 0.09010673300776881\n",
      "cv_c := 0.9915640782895839\n"
     ]
    }
   ],
   "source": [
    "mean_c_opt= sum(deadzone_c_opt) / len(deadzone_c_opt)\n",
    "mean_c = sum(deadzone_c) / len(deadzone_c)\n",
    "\n",
    "squared_diff_sum = sum((x - mean_c) ** 2 for x in deadzone_c)\n",
    "variance_c=squared_diff_sum/(len(deadzone_c)-1)\n",
    "std_dev_c = math.sqrt(variance_c)\n",
    "\n",
    "squared_diff_sum = sum((x - mean_c_opt) ** 2 for x in deadzone_c_opt)\n",
    "variance_c_opt=squared_diff_sum/(len(deadzone_c_opt)-1)\n",
    "std_dev_c_opt = math.sqrt(variance_c_opt)\n",
    "\n",
    "# print(f\"Mean C: {mean_c}, Mean C opt: {mean_c_opt}, Variance C opt: {variance_c_opt}, Variance C: {variance_c}, \\nStd Dev C: {std_dev_c}, Std Dev C opt: {std_dev_c_opt}\")\n",
    "print(f\"Mean C: {mean_c}, Variance C: {variance_c}, \\nStd Dev C: {std_dev_c}\")\n",
    "print(f\"cv_c := {std_dev_c/mean_c}\")"
   ]
  },
  {
   "cell_type": "code",
   "execution_count": 135,
   "id": "a92fba2a",
   "metadata": {},
   "outputs": [
    {
     "name": "stdout",
     "output_type": "stream",
     "text": [
      "mean error constant classifier: 0.5524079320113314\n",
      "Variance error constant classifier: 0.21132502467718986\n",
      "Standard Deviation constant classifier: 0.4597010166153539\n"
     ]
    }
   ],
   "source": [
    "# error calculation in constant threshold method\n",
    "error_lc=[]\n",
    "summ_c=0\n",
    "for x in range(len(xn)-1):\n",
    "    obs_current=mean_c**2-(xn[x]-xn_1[x])**2\n",
    "    if obs_current < 0:\n",
    "        sign = -1\n",
    "    elif obs_current == 0:\n",
    "        sign = 0\n",
    "    else:\n",
    "        sign = 1\n",
    "    #print(sign)\n",
    "    error=(yn[x]-sign)**2\n",
    "    summ_c=error+summ_c\n",
    "    #print(summ_c)\n",
    "    error_lc.append(error)\n",
    "\n",
    "error_lc_opt=[]\n",
    "summ_c=0\n",
    "for x in range(len(xn)-1):\n",
    "    obs_current=(all_diff[x])**2-mean_c_opt**2\n",
    "    if obs_current < 0:\n",
    "        sign = -1\n",
    "    elif obs_current == 0:\n",
    "        sign = 0\n",
    "    else:\n",
    "        sign = 1\n",
    "    #print(sign)\n",
    "    error=(yn[x]-sign)**2\n",
    "    summ_c=error+summ_c\n",
    "    #print(summ_c)\n",
    "    error_lc_opt.append(error)    \n",
    "mean_error_lc=(1/(4*(len(error_lc)) ) )*summ_c # check this from theory \n",
    "mean_error_lc_opt=(1/(4*(len(all_diff)) ) )*summ_c\n",
    "\n",
    "squared_diff_sum = sum(((x/4) - mean_error_lc) ** 2 for x in error_lc)\n",
    "std_dev_lc = math.sqrt(squared_diff_sum / len(error_lc))\n",
    "\n",
    "print(f\"mean error constant classifier: {mean_error_lc}\\nVariance error constant classifier: {squared_diff_sum/len(error_lc)}\\nStandard Deviation constant classifier: {std_dev_lc}\")"
   ]
  },
  {
   "cell_type": "code",
   "execution_count": 139,
   "id": "3acb8eeb",
   "metadata": {},
   "outputs": [
    {
     "data": {
      "image/png": "[encoded data removed]",
      "text/plain": [
       "<Figure size 640x480 with 1 Axes>"
      ]
     },
     "metadata": {},
     "output_type": "display_data"
    }
   ],
   "source": [
    "\n",
    "\n",
    "index_correct_c=[]\n",
    "index_incorrect_c=[]\n",
    "xn_diff=[]\n",
    "for x in range (len(xn)):\n",
    "    if yn[x]==-1:\n",
    "        index_incorrect_c.append(x)\n",
    "    elif yn[x]==1:\n",
    "        index_correct_c.append(x)\n",
    "\n",
    "blue_tick=[]\n",
    "red_tick=[]\n",
    "for x in range (len(xn)):\n",
    "    if x in index_incorrect_c:\n",
    "        red_tick.append(xn[x])\n",
    "        blue_tick.append(-100)\n",
    "    else:\n",
    "        blue_tick.append(xn[x])\n",
    "        red_tick.append(-100)\n",
    "\n",
    "\n",
    "slope = 1\n",
    "intercept = mean_c\n",
    "\n",
    "xn=np.array(xn)\n",
    "line_above =slope * xn + intercept\n",
    "line_below=slope*xn - intercept\n",
    "\n",
    "plt.plot(xn, line_above, color='black', linestyle='--', label='Straight Line')\n",
    "plt.plot(xn, line_below, color='black', linestyle='--', label='Straight Line')\n",
    "\n",
    "\n",
    "# print(\"size matric\")\n",
    "# print(fealt_xn,non_fealt_xn)\n",
    "plt.scatter(blue_tick,xn_1,c=\"blue\")\n",
    "plt.scatter(red_tick,xn_1,c=\"red\")\n",
    "plt.xlabel('Xn-1')\n",
    "plt.ylabel('Xn')\n",
    "plt.title('Timespacing 1s')\n",
    "#plt.scatter(xn,xn_1,c=\"green\")\n",
    "plt.xlim(0, 1.01)\n",
    "plt.ylim(0, 1.15)\n",
    "plt.show()"
   ]
  },
  {
   "cell_type": "code",
   "execution_count": null,
   "id": "e5d37c8d",
   "metadata": {},
   "outputs": [
    {
     "name": "stdout",
     "output_type": "stream",
     "text": [
      "[[10.          2.          0.25        5.          2.          0.66666667]\n",
      " [ 8.          2.          0.33333333  3.          1.          0.5       ]\n",
      " [ 6.          1.          0.2         2.          1.          1.        ]\n",
      " [ 5.          2.          0.66666667  1.                 nan         nan]]\n"
     ]
    }
   ],
   "source": [
    "# category 3 Random forest\n",
    "# selection of feature\n",
    "# import numpy as np\n",
    "\n",
    "# xn = np.array([10, 8, 6, 5, 3, 2, 1])  # example data\n",
    "# k = 3\n",
    "\n",
    "features = []\n",
    "for i in range(len(xn) - k):\n",
    "    x0 = xn[i]\n",
    "    x1 = xn[i+1]\n",
    "    x2 = xn[i+2]\n",
    "    x3 = xn[i+3]\n",
    "    # For each window, build the feature vector:\n",
    "    feat = [\n",
    "        x0,\n",
    "        x0 - x1,\n",
    "        (x0 - x1) / x1 if x1 != 0 else np.nan,\n",
    "        x3,\n",
    "        x3 - xn[i+4] if i+4 < len(xn) else np.nan,\n",
    "        (x3 - xn[i+4]) / xn[i+4] if i+4 < len(xn) and xn[i+4] != 0 else np.nan\n",
    "    ]\n",
    "    features.append(feat)\n",
    "\n",
    "features = np.array(features)\n",
    "print(features)"
   ]
  },
  {
   "cell_type": "code",
   "execution_count": 150,
   "id": "28d88a64",
   "metadata": {},
   "outputs": [
    {
     "name": "stdout",
     "output_type": "stream",
     "text": [
      "<class 'numpy.ndarray'>\n",
      "354\n",
      "354\n"
     ]
    }
   ],
   "source": [
    "print(type(xn))\n",
    "xn=np.array(xn)\n",
    "yn=np.array(yn)\n",
    "print(xn.shape[0])\n",
    "print(yn.shape[0])"
   ]
  },
  {
   "cell_type": "code",
   "execution_count": 153,
   "id": "b776f922",
   "metadata": {},
   "outputs": [
    {
     "name": "stdout",
     "output_type": "stream",
     "text": [
      "(351, 10)\n"
     ]
    }
   ],
   "source": [
    "k = 3\n",
    "\n",
    "features = []\n",
    "for i in range(xn.shape[0] - k):\n",
    "    x0 = xn[i]\n",
    "    x1 = xn[i+1]\n",
    "    x2 = xn[i+2]\n",
    "    x3 = xn[i+3]\n",
    "    # For each window, build the feature vector:\n",
    "    feat = [\n",
    "        x0,\n",
    "        x0 - x1,\n",
    "        (x0 - x1) / x1 ,\n",
    "        x1,\n",
    "        x1 - x2,\n",
    "        (x1 - x2) / x2 ,\n",
    "        x2,\n",
    "        (x2 - x3) ,\n",
    "        (x2 - x3) / x3,\n",
    "        yn[i]\n",
    "    ]\n",
    "    features.append(feat)\n",
    "\n",
    "features = np.array(features)\n",
    "print(features.shape)"
   ]
  },
  {
   "cell_type": "code",
   "execution_count": 155,
   "id": "1f3918d3",
   "metadata": {},
   "outputs": [],
   "source": [
    "# check\n",
    "# features[:,-1]==yn[:-3]\n",
    "df = pd.DataFrame(features)\n",
    "df.to_csv('RF_features.csv', index=False, header=False)"
   ]
  },
  {
   "cell_type": "code",
   "execution_count": null,
   "id": "2bc3bd9c",
   "metadata": {},
   "outputs": [
    {
     "data": {
      "image/svg+xml": [
       "<?xml version=\"1.0\" encoding=\"UTF-8\" standalone=\"no\"?>\n",
       "<!DOCTYPE svg PUBLIC \"-//W3C//DTD SVG 1.1//EN\"\n",
       " \"http://www.w3.org/Graphics/SVG/1.1/DTD/svg11.dtd\">\n",
       "<!-- Generated by graphviz version 12.2.1 (20241206.2353)\n",
       " -->\n",
       "<!-- Title: Tree Pages: 1 -->\n",
       "<svg width=\"350pt\" height=\"325pt\"\n",
       " viewBox=\"0.00 0.00 349.50 324.50\" xmlns=\"http://www.w3.org/2000/svg\" xmlns:xlink=\"http://www.w3.org/1999/xlink\">\n",
       "<g id=\"graph0\" class=\"graph\" transform=\"scale(1 1) rotate(0) translate(4 320.5)\">\n",
       "<title>Tree</title>\n",
       "<polygon fill=\"white\" stroke=\"none\" points=\"-4,4 -4,-320.5 345.5,-320.5 345.5,4 -4,4\"/>\n",
       "<!-- 0 -->\n",
       "<g id=\"node1\" class=\"node\">\n",
       "<title>0</title>\n",
       "<path fill=\"#ffffff\" stroke=\"black\" d=\"M208,-316.5C208,-316.5 64.5,-316.5 64.5,-316.5 58.5,-316.5 52.5,-310.5 52.5,-304.5 52.5,-304.5 52.5,-241.75 52.5,-241.75 52.5,-235.75 58.5,-229.75 64.5,-229.75 64.5,-229.75 208,-229.75 208,-229.75 214,-229.75 220,-235.75 220,-241.75 220,-241.75 220,-304.5 220,-304.5 220,-310.5 214,-316.5 208,-316.5\"/>\n",
       "<text text-anchor=\"middle\" x=\"136.25\" y=\"-299.2\" font-family=\"Helvetica,sans-Serif\" font-size=\"14.00\">petal length (cm) &lt;= 2.45</text>\n",
       "<text text-anchor=\"middle\" x=\"136.25\" y=\"-283.45\" font-family=\"Helvetica,sans-Serif\" font-size=\"14.00\">gini = 0.667</text>\n",
       "<text text-anchor=\"middle\" x=\"136.25\" y=\"-267.7\" font-family=\"Helvetica,sans-Serif\" font-size=\"14.00\">samples = 150</text>\n",
       "<text text-anchor=\"middle\" x=\"136.25\" y=\"-251.95\" font-family=\"Helvetica,sans-Serif\" font-size=\"14.00\">value = [50, 50, 50]</text>\n",
       "<text text-anchor=\"middle\" x=\"136.25\" y=\"-236.2\" font-family=\"Helvetica,sans-Serif\" font-size=\"14.00\">class = setosa</text>\n",
       "</g>\n",
       "<!-- 1 -->\n",
       "<g id=\"node2\" class=\"node\">\n",
       "<title>1</title>\n",
       "<path fill=\"#e58139\" stroke=\"black\" d=\"M104.5,-185.88C104.5,-185.88 12,-185.88 12,-185.88 6,-185.88 0,-179.88 0,-173.88 0,-173.88 0,-126.88 0,-126.88 0,-120.88 6,-114.88 12,-114.88 12,-114.88 104.5,-114.88 104.5,-114.88 110.5,-114.88 116.5,-120.88 116.5,-126.88 116.5,-126.88 116.5,-173.88 116.5,-173.88 116.5,-179.88 110.5,-185.88 104.5,-185.88\"/>\n",
       "<text text-anchor=\"middle\" x=\"58.25\" y=\"-168.57\" font-family=\"Helvetica,sans-Serif\" font-size=\"14.00\">gini = 0.0</text>\n",
       "<text text-anchor=\"middle\" x=\"58.25\" y=\"-152.82\" font-family=\"Helvetica,sans-Serif\" font-size=\"14.00\">samples = 50</text>\n",
       "<text text-anchor=\"middle\" x=\"58.25\" y=\"-137.07\" font-family=\"Helvetica,sans-Serif\" font-size=\"14.00\">value = [50, 0, 0]</text>\n",
       "<text text-anchor=\"middle\" x=\"58.25\" y=\"-121.33\" font-family=\"Helvetica,sans-Serif\" font-size=\"14.00\">class = setosa</text>\n",
       "</g>\n",
       "<!-- 0&#45;&gt;1 -->\n",
       "<g id=\"edge1\" class=\"edge\">\n",
       "<title>0&#45;&gt;1</title>\n",
       "<path fill=\"none\" stroke=\"black\" d=\"M108.75,-229.55C101.63,-218.52 93.94,-206.63 86.77,-195.52\"/>\n",
       "<polygon fill=\"black\" stroke=\"black\" points=\"89.81,-193.78 81.44,-187.27 83.93,-197.57 89.81,-193.78\"/>\n",
       "<text text-anchor=\"middle\" x=\"75.36\" y=\"-205.02\" font-family=\"Helvetica,sans-Serif\" font-size=\"14.00\">True</text>\n",
       "</g>\n",
       "<!-- 2 -->\n",
       "<g id=\"node3\" class=\"node\">\n",
       "<title>2</title>\n",
       "<path fill=\"#ffffff\" stroke=\"black\" d=\"M284.38,-193.75C284.38,-193.75 146.12,-193.75 146.12,-193.75 140.12,-193.75 134.12,-187.75 134.12,-181.75 134.12,-181.75 134.12,-119 134.12,-119 134.12,-113 140.12,-107 146.12,-107 146.12,-107 284.38,-107 284.38,-107 290.38,-107 296.38,-113 296.38,-119 296.38,-119 296.38,-181.75 296.38,-181.75 296.38,-187.75 290.38,-193.75 284.38,-193.75\"/>\n",
       "<text text-anchor=\"middle\" x=\"215.25\" y=\"-176.45\" font-family=\"Helvetica,sans-Serif\" font-size=\"14.00\">petal width (cm) &lt;= 1.75</text>\n",
       "<text text-anchor=\"middle\" x=\"215.25\" y=\"-160.7\" font-family=\"Helvetica,sans-Serif\" font-size=\"14.00\">gini = 0.5</text>\n",
       "<text text-anchor=\"middle\" x=\"215.25\" y=\"-144.95\" font-family=\"Helvetica,sans-Serif\" font-size=\"14.00\">samples = 100</text>\n",
       "<text text-anchor=\"middle\" x=\"215.25\" y=\"-129.2\" font-family=\"Helvetica,sans-Serif\" font-size=\"14.00\">value = [0, 50, 50]</text>\n",
       "<text text-anchor=\"middle\" x=\"215.25\" y=\"-113.45\" font-family=\"Helvetica,sans-Serif\" font-size=\"14.00\">class = versicolor</text>\n",
       "</g>\n",
       "<!-- 0&#45;&gt;2 -->\n",
       "<g id=\"edge2\" class=\"edge\">\n",
       "<title>0&#45;&gt;2</title>\n",
       "<path fill=\"none\" stroke=\"black\" d=\"M164.1,-229.55C169.65,-221.08 175.53,-212.09 181.26,-203.33\"/>\n",
       "<polygon fill=\"black\" stroke=\"black\" points=\"184.01,-205.52 186.55,-195.24 178.15,-201.69 184.01,-205.52\"/>\n",
       "<text text-anchor=\"middle\" x=\"192.5\" y=\"-213.02\" font-family=\"Helvetica,sans-Serif\" font-size=\"14.00\">False</text>\n",
       "</g>\n",
       "<!-- 3 -->\n",
       "<g id=\"node4\" class=\"node\">\n",
       "<title>3</title>\n",
       "<path fill=\"#4de88e\" stroke=\"black\" d=\"M195.38,-71C195.38,-71 99.12,-71 99.12,-71 93.12,-71 87.12,-65 87.12,-59 87.12,-59 87.12,-12 87.12,-12 87.12,-6 93.12,0 99.12,0 99.12,0 195.38,0 195.38,0 201.38,0 207.38,-6 207.38,-12 207.38,-12 207.38,-59 207.38,-59 207.38,-65 201.38,-71 195.38,-71\"/>\n",
       "<text text-anchor=\"middle\" x=\"147.25\" y=\"-53.7\" font-family=\"Helvetica,sans-Serif\" font-size=\"14.00\">gini = 0.168</text>\n",
       "<text text-anchor=\"middle\" x=\"147.25\" y=\"-37.95\" font-family=\"Helvetica,sans-Serif\" font-size=\"14.00\">samples = 54</text>\n",
       "<text text-anchor=\"middle\" x=\"147.25\" y=\"-22.2\" font-family=\"Helvetica,sans-Serif\" font-size=\"14.00\">value = [0, 49, 5]</text>\n",
       "<text text-anchor=\"middle\" x=\"147.25\" y=\"-6.45\" font-family=\"Helvetica,sans-Serif\" font-size=\"14.00\">class = versicolor</text>\n",
       "</g>\n",
       "<!-- 2&#45;&gt;3 -->\n",
       "<g id=\"edge3\" class=\"edge\">\n",
       "<title>2&#45;&gt;3</title>\n",
       "<path fill=\"none\" stroke=\"black\" d=\"M189.54,-106.7C184.46,-98.27 179.11,-89.39 174,-80.9\"/>\n",
       "<polygon fill=\"black\" stroke=\"black\" points=\"177.07,-79.21 168.91,-72.45 171.07,-82.83 177.07,-79.21\"/>\n",
       "</g>\n",
       "<!-- 4 -->\n",
       "<g id=\"node5\" class=\"node\">\n",
       "<title>4</title>\n",
       "<path fill=\"#843de6\" stroke=\"black\" d=\"M329.5,-71C329.5,-71 237,-71 237,-71 231,-71 225,-65 225,-59 225,-59 225,-12 225,-12 225,-6 231,0 237,0 237,0 329.5,0 329.5,0 335.5,0 341.5,-6 341.5,-12 341.5,-12 341.5,-59 341.5,-59 341.5,-65 335.5,-71 329.5,-71\"/>\n",
       "<text text-anchor=\"middle\" x=\"283.25\" y=\"-53.7\" font-family=\"Helvetica,sans-Serif\" font-size=\"14.00\">gini = 0.043</text>\n",
       "<text text-anchor=\"middle\" x=\"283.25\" y=\"-37.95\" font-family=\"Helvetica,sans-Serif\" font-size=\"14.00\">samples = 46</text>\n",
       "<text text-anchor=\"middle\" x=\"283.25\" y=\"-22.2\" font-family=\"Helvetica,sans-Serif\" font-size=\"14.00\">value = [0, 1, 45]</text>\n",
       "<text text-anchor=\"middle\" x=\"283.25\" y=\"-6.45\" font-family=\"Helvetica,sans-Serif\" font-size=\"14.00\">class = virginica</text>\n",
       "</g>\n",
       "<!-- 2&#45;&gt;4 -->\n",
       "<g id=\"edge4\" class=\"edge\">\n",
       "<title>2&#45;&gt;4</title>\n",
       "<path fill=\"none\" stroke=\"black\" d=\"M240.96,-106.7C246.04,-98.27 251.39,-89.39 256.5,-80.9\"/>\n",
       "<polygon fill=\"black\" stroke=\"black\" points=\"259.43,-82.83 261.59,-72.45 253.43,-79.21 259.43,-82.83\"/>\n",
       "</g>\n",
       "</g>\n",
       "</svg>\n"
      ],
      "text/plain": [
       "<graphviz.sources.Source at 0x1a8ae9fef20>"
      ]
     },
     "execution_count": 158,
     "metadata": {},
     "output_type": "execute_result"
    }
   ],
   "source": [
    "# how to select p\n",
    "# CART Algorithm\n",
    "from sklearn.datasets import load_iris\n",
    "from sklearn.tree import DecisionTreeClassifier\n",
    "iris = load_iris(as_frame=True)\n",
    "X_iris = iris.data[[\"petal length (cm)\", \"petal width (cm)\"]].values\n",
    "y_iris = iris.target\n",
    "tree_clf = DecisionTreeClassifier(max_depth=9, random_state=42)\n",
    "tree_clf.fit(X_iris, y_iris)\n",
    "\n",
    "\n",
    "from sklearn.tree import export_graphviz\n",
    "export_graphviz(\n",
    "tree_clf,\n",
    "out_file=\"iris_tree.dot\",\n",
    "feature_names=[\"petal length (cm)\", \"petal width (cm)\"],\n",
    "class_names=iris.target_names,\n",
    "rounded=True,\n",
    "filled=True)\n",
    "from graphviz import Source\n",
    "Source.from_file(\"iris_tree.dot\")"
   ]
  },
  {
   "cell_type": "code",
   "execution_count": 161,
   "id": "a2a69eed",
   "metadata": {},
   "outputs": [],
   "source": [
    "from sklearn.model_selection import train_test_split\n",
    "from sklearn.metrics import accuracy_score\n",
    "\n",
    "X = features[:, :-1]  # features\n",
    "y = features[:, -1]   # target\n",
    "\n",
    "# Split data (80% train, 20% test)\n",
    "X_train, X_test, y_train, y_test = train_test_split(X, y, test_size=0.2, random_state=42)\n",
    "\n"
   ]
  },
  {
   "cell_type": "code",
   "execution_count": 163,
   "id": "ccdb9f99",
   "metadata": {},
   "outputs": [
    {
     "name": "stdout",
     "output_type": "stream",
     "text": [
      "Decision Tree accuracy for 1 features: 0.7746\n",
      "Decision Tree accuracy for 2 features: 0.7746\n",
      "Decision Tree accuracy for 3 features: 0.7324\n",
      "Decision Tree accuracy for 4 features: 0.7606\n",
      "Decision Tree accuracy for 5 features: 0.7183\n",
      "Decision Tree accuracy for 6 features: 0.7183\n",
      "Decision Tree accuracy for 7 features: 0.7324\n",
      "Decision Tree accuracy for 8 features: 0.7606\n",
      "Decision Tree accuracy for 9 features: 0.7465\n"
     ]
    }
   ],
   "source": [
    "\n",
    "\n",
    "from sklearn.tree import DecisionTreeClassifier\n",
    "\n",
    "\n",
    "for x in range(9):\n",
    "\n",
    "    tree_clf = DecisionTreeClassifier(max_depth=x+1, random_state=42)\n",
    "    tree_clf.fit(X_train, y_train)\n",
    "\n",
    "\n",
    "\n",
    "    # Predict on test set\n",
    "    y_pred = tree_clf.predict(X_test)\n",
    "\n",
    "    # Calculate accuracy\n",
    "    \n",
    "    accuracy = accuracy_score(y_test, y_pred)\n",
    "    print(f\"Decision Tree accuracy for {x+1} features: {accuracy:.4f}\")"
   ]
  },
  {
   "cell_type": "code",
   "execution_count": 166,
   "id": "7bbc98ea",
   "metadata": {},
   "outputs": [
    {
     "name": "stdout",
     "output_type": "stream",
     "text": [
      "Random Forest accuracy: 0.7465\n"
     ]
    }
   ],
   "source": [
    "# random forest classifier \n",
    "from sklearn.ensemble import RandomForestClassifier\n",
    "rnd_clf = RandomForestClassifier(n_estimators=500, max_leaf_nodes=9,\n",
    "n_jobs=-1, random_state=42)\n",
    "rnd_clf.fit(X_train, y_train)\n",
    "y_pred_rf = rnd_clf.predict(X_test)\n",
    "\n",
    "acc = accuracy_score(y_test, y_pred_rf)\n",
    "print(f\"Random Forest accuracy: {acc:.4f}\")"
   ]
  },
  {
   "cell_type": "code",
   "execution_count": null,
   "id": "d719370b",
   "metadata": {},
   "outputs": [],
   "source": [
    "for score, name in zip(rnd_clf.feature_importances_, iris.data.columns):\n",
    "    print(round(score, 2), name)"
   ]
  }
 ],
 "metadata": {
  "kernelspec": {
   "display_name": "Python 3",
   "language": "python",
   "name": "python3"
  },
  "language_info": {
   "codemirror_mode": {
    "name": "ipython",
    "version": 3
   },
   "file_extension": ".py",
   "mimetype": "text/x-python",
   "name": "python",
   "nbconvert_exporter": "python",
   "pygments_lexer": "ipython3",
   "version": "3.10.8"
  }
 },
 "nbformat": 4,
 "nbformat_minor": 5
}
